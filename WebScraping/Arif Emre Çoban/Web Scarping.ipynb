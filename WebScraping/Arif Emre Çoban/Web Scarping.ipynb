{
 "cells": [
  {
   "cell_type": "code",
   "execution_count": 3,
   "id": "e22446a9",
   "metadata": {},
   "outputs": [],
   "source": [
    "from selenium import webdriver\n",
    "import time\n",
    "from selenium.webdriver.common.by import By\n",
    "from selenium.webdriver.support.ui import WebDriverWait\n",
    "from selenium.webdriver.support import expected_conditions as EC\n",
    "import requests\n",
    "from selenium.webdriver.common.keys import Keys\n",
    "from PIL import Image\n",
    "from io import BytesIO\n",
    "import pandas as pd\n",
    "import numpy as np"
   ]
  },
  {
   "cell_type": "code",
   "execution_count": 4,
   "id": "124c60c8",
   "metadata": {},
   "outputs": [
    {
     "name": "stdout",
     "output_type": "stream",
     "text": [
      "Nur\n",
      "1 saat önce\n",
      "Ürünüm 11.03.2023 tarihinde mobilyacı dağıtım şubesine geldi ve aynı gün teslimatı yapılması gerektiği halde tüm gün evde olmama rağmen benimle hiç iletişime geçilmeden kargonuz teslim edilmedi seklinde mesaj geldi. Bu kabul edilemez aynı şeyi daha önce de yaptınız ve pek çok insan da aynı sorundan şikayetçi olmuş. Kargomun evime ulaştırılmasını talep ediyorum\n",
      "Şikayet Alındı\n",
      "Aras Kargo\n",
      "1 saat önce\n",
      "Değerli Müşterimiz; Öncelikle yaşadığınız sorun için üzgün olduğumuzu bilmenizi isteriz.Talebiniz ilgili birimlerimiz ile paylaşılmış olup, müşteri temsilcimiz en kısa sürede tarafınıza geri dönüş sağlayacaktır. \n",
      "\n",
      "Sevgilerimizle, \n",
      "Aras Kargo \n",
      "www.araskargo.com.tr \n",
      "444 25 52\n"
     ]
    }
   ],
   "source": [
    "browser = webdriver.Chrome()\n",
    "\n",
    "\n",
    "browser.get(\"https://www.sikayetvar.com/\")\n",
    "time.sleep(5)\n",
    "browser.maximize_window()\n",
    "time.sleep(3)\n",
    "Btn = browser.find_element(By.XPATH,\"//*[@id='CybotCookiebotDialogBodyLevelButtonLevelOptinAllowAll']\")\n",
    "Btn.click()\n",
    "\n",
    "time.sleep(3)\n",
    "\n",
    "metin_alani = browser.find_element(By.XPATH,\"//*[@id='marka']\")\n",
    "metin_alani.send_keys(\"aras kargo\")\n",
    "time.sleep(2)\n",
    "\n",
    "Btn1 = browser.find_element(By.XPATH,\"//*[@id='banner-search-form']/div/button\")\n",
    "Btn1.click()\n",
    "time.sleep(5)\n",
    "\n",
    "\n",
    "cont1 = browser.find_element(By.XPATH,\"//*[@id='main-content']/div[1]/div[2]/article[1]/section/h2/a\")\n",
    "cont1.click()\n",
    "\n",
    "\n",
    "sikayet = browser.find_element(By.XPATH, \"//*[@id='main-content']/section[2]/article/div[2]\")\n",
    "\n",
    "print(sikayet.text)\n",
    "\n",
    "\n",
    "print(\"Şikayet Alındı\")\n",
    "\n",
    "\n",
    "yanıt = browser.find_element(By.XPATH,\"//*[@id='main-content']/section[2]/article/div[3]\")\n",
    "\n",
    "print(yanıt.text)"
   ]
  },
  {
   "cell_type": "code",
   "execution_count": null,
   "id": "1ebb91d7",
   "metadata": {},
   "outputs": [],
   "source": []
  }
 ],
 "metadata": {
  "kernelspec": {
   "display_name": "Python 3 (ipykernel)",
   "language": "python",
   "name": "python3"
  },
  "language_info": {
   "codemirror_mode": {
    "name": "ipython",
    "version": 3
   },
   "file_extension": ".py",
   "mimetype": "text/x-python",
   "name": "python",
   "nbconvert_exporter": "python",
   "pygments_lexer": "ipython3",
   "version": "3.9.7"
  }
 },
 "nbformat": 4,
 "nbformat_minor": 5
}
